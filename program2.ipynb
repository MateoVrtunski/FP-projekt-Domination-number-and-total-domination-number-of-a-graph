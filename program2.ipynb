{
 "cells": [
  {
   "cell_type": "code",
   "execution_count": 1,
   "metadata": {
    "collapsed": false
   },
   "outputs": [],
   "source": [
    "def Dominating_number(G):\n",
    "    return G.dominating_set(total = False, value_only = True)\n",
    "def Total_dominating_number(G):\n",
    "    return G.dominating_set(total = True, value_only = True)\n",
    "\n",
    "def LP_dominating_number(G):\n",
    "    p = MixedIntegerLinearProgram(maximization = False)\n",
    "    b = p.new_variable(real = True, nonnegative = True)\n",
    "    p.set_min(b, 0)\n",
    "    p.set_max(b, 1)\n",
    "    p.set_objective(sum([b[v] for v in G]))\n",
    "\n",
    "    for u in G:\n",
    "        p.add_constraint(b[u] + sum([b[v] for v in G.neighbors(u)]) >= 1)\n",
    "\n",
    "    return p.solve()\n",
    "\n",
    "def LP_total_dominating_number(G):\n",
    "    p = MixedIntegerLinearProgram(maximization = False)\n",
    "    b = p.new_variable(real = True, nonnegative = True)\n",
    "    p.set_min(b, 0)\n",
    "    p.set_max(b, 1)\n",
    "    p.set_objective(sum([b[v] for v in G]))\n",
    "\n",
    "    for u in G:\n",
    "        p.add_constraint(sum([b[v] for v in G.neighbors(u)]) >= 1)\n",
    "\n",
    "    return p.solve()"
   ]
  },
  {
   "cell_type": "code",
   "execution_count": 67,
   "metadata": {
    "collapsed": false
   },
   "outputs": [
    {
     "data": {
      "image/png": "[encoded data removed]",
      "text/plain": [
       "Graphics object consisting of 61 graphics primitives"
      ]
     },
     "execution_count": 67,
     "metadata": {},
     "output_type": "execute_result"
    }
   ],
   "source": [
    "graphs.AztecDiamondGraph(3).show()\n"
   ]
  },
  {
   "cell_type": "code",
   "execution_count": 65,
   "metadata": {
    "collapsed": false
   },
   "outputs": [],
   "source": [
    "def Fib(a,b,n):\n",
    "    i = 0\n",
    "    while i < n:\n",
    "        a,b = b, a+b\n",
    "        i += 1\n",
    "    return a"
   ]
  },
  {
   "cell_type": "code",
   "execution_count": 67,
   "metadata": {
    "collapsed": false
   },
   "outputs": [],
   "source": [
    "\n",
    "def D_for_FibonacciTree(n):\n",
    "    seed = [0,1,1,2,3]\n",
    "    if n < len(seed):\n",
    "        return seed[n]\n",
    "    else:\n",
    "        for i in range(len(seed), n+1):\n",
    "            seed.append(Fib(0,1,i) + seed[0])\n",
    "            seed.pop(0)\n",
    "    return seed[-1]\n"
   ]
  },
  {
   "cell_type": "code",
   "execution_count": 105,
   "metadata": {
    "collapsed": false
   },
   "outputs": [],
   "source": [
    "# formula za toadominacijsko stevilo\n",
    "# ce n-1 deli 6 ne vrne pravilno drugace pa\n",
    "\n",
    "def T_for_FibonacciTree(n):\n",
    "    seed = [0,0,2,2,4,6]\n",
    "    if n < len(seed):\n",
    "        return seed[n]\n",
    "    else:\n",
    "        for i in range(len(seed), n+1):\n",
    "            seed.append(Fib(2,2,i-2) + seed[0]) \n",
    "            seed.pop(0)\n",
    "    return seed[-1]\n",
    "\n"
   ]
  },
  {
   "cell_type": "code",
   "execution_count": 119,
   "metadata": {
    "collapsed": false
   },
   "outputs": [],
   "source": [
    "# FibonacciTree(n)\n",
    "# D(n) = Fib(0,1,n) + D(n-5) = D(G)_lp\n",
    "# T(n) = Fib(2,2,n-2) + T(n-6) = T(n)_lp"
   ]
  },
  {
   "cell_type": "code",
   "execution_count": 70,
   "metadata": {
    "collapsed": false
   },
   "outputs": [
    {
     "name": "stdout",
     "output_type": "stream",
     "text": [
      "2.0\n",
      "4.0\n",
      "8.0\n",
      "12.0\n",
      "18.0\n",
      "24.0\n",
      "32.0\n",
      "40.0\n",
      "50.0\n",
      "60.0\n"
     ]
    }
   ],
   "source": [
    "for n in range(1, 11):\n",
    "    G = graphs.AztecDiamondGraph(n)\n",
    "    #print(LP_dominating_number(G))\n",
    "    print(LP_total_dominating_number(G))"
   ]
  },
  {
   "cell_type": "code",
   "execution_count": 24,
   "metadata": {
    "collapsed": false
   },
   "outputs": [
    {
     "data": {
      "text/plain": [
       "[2.00000000000000,\n",
       " 2.00000000000000,\n",
       " 3.00000000000000,\n",
       " 4.00000000000000,\n",
       " 4.00000000000000,\n",
       " 4.00000000000000,\n",
       " 5.00000000000000,\n",
       " 6.00000000000000,\n",
       " 6.00000000000000,\n",
       " 6.00000000000000,\n",
       " 7.00000000000000,\n",
       " 8.00000000000000,\n",
       " 8.00000000000000,\n",
       " 8.00000000000000,\n",
       " 9.00000000000000,\n",
       " 10.0000000000000,\n",
       " 10.0000000000000]"
      ]
     },
     "execution_count": 24,
     "metadata": {},
     "output_type": "execute_result"
    }
   ],
   "source": [
    "[ for n in range(3, 20)]"
   ]
  },
  {
   "cell_type": "code",
   "execution_count": 44,
   "metadata": {
    "collapsed": false
   },
   "outputs": [],
   "source": [
    "import math"
   ]
  },
  {
   "cell_type": "code",
   "execution_count": 86,
   "metadata": {
    "collapsed": false
   },
   "outputs": [
    {
     "data": {
      "text/plain": [
       "[4,\n",
       " 4,\n",
       " 6,\n",
       " 6,\n",
       " 8,\n",
       " 8,\n",
       " 10,\n",
       " 10,\n",
       " 12,\n",
       " 12,\n",
       " 14,\n",
       " 14,\n",
       " 16,\n",
       " 16,\n",
       " 18,\n",
       " 18,\n",
       " 20,\n",
       " 20,\n",
       " 22,\n",
       " 22,\n",
       " 24,\n",
       " 24]"
      ]
     },
     "execution_count": 86,
     "metadata": {},
     "output_type": "execute_result"
    }
   ],
   "source": [
    "[Total_dominating_number(graphs.AztecDiamondGraph(n)) - Total_dominating_number(graphs.AztecDiamondGraph(n-1)) for n in range(3, 25)]"
   ]
  },
  {
   "cell_type": "code",
   "execution_count": 57,
   "metadata": {
    "collapsed": false
   },
   "outputs": [
    {
     "data": {
      "text/plain": [
       "[2, 3, 3, 4, 4, 5, 5, 6, 6, 7, 7, 8]"
      ]
     },
     "execution_count": 57,
     "metadata": {},
     "output_type": "execute_result"
    }
   ],
   "source": [
    "[1+ (n)//2 for n in range(3, 15)]"
   ]
  },
  {
   "cell_type": "code",
   "execution_count": 39,
   "metadata": {
    "collapsed": false
   },
   "outputs": [
    {
     "data": {
      "text/plain": [
       "[8/3, 10/3, 4, 14/3, 16/3, 6, 20/3, 22/3, 8, 26/3, 28/3, 10]"
      ]
     },
     "execution_count": 39,
     "metadata": {},
     "output_type": "execute_result"
    }
   ],
   "source": [
    "[2 + (n-2)*(2/3) for n in range(3, 15)]"
   ]
  },
  {
   "cell_type": "code",
   "execution_count": null,
   "metadata": {
    "collapsed": false
   },
   "outputs": [],
   "source": [
    "# CycleGraph(n)\n",
    "# D(G) = (n+2)//3\n",
    "# D(G)_lp = n/3\n",
    "# T(G) = (1/4) * (2*(n-1) + 1j * (-1j)**(n-1) - 1j * (1j)**(n-1) + 4)\n",
    "# T(G)_lp = n/2"
   ]
  },
  {
   "cell_type": "code",
   "execution_count": 173,
   "metadata": {
    "collapsed": false
   },
   "outputs": [],
   "source": [
    "# GeneralizedPetersenGraph(n, 1)\n",
    "# D(G) = (1/4) * (2*(n-1) + 1j * (-1j)**(n-1) - 1j * (1j)**(n-1) + 4) = isto kot T(g) pri CycleGraph\n",
    "# D(G)_lp = n/2\n",
    "# T(G) = vzorec je prevec tezaven, liho stevilo nastopi samo, ko je n = 6k+1, meji:  n*(2/3) < T(G) < 2 + n*(2/3)\n",
    "# T(G)_lp = 2 + (n-3)*(2/3)"
   ]
  },
  {
   "cell_type": "code",
   "execution_count": null,
   "metadata": {
    "collapsed": false
   },
   "outputs": [],
   "source": [
    "# LadderGraph(n)\n",
    "# D(G) = (1/4) * (-1)**(i-1) * (2 * (-1)**(i-1) * (i-1) + 5 * (-1)**(i-1) - 1)\n",
    "# D(G)_lp = (i+1)/2, približek ki je zelo dober, vedno je <= D(G)\n",
    "# T(G) = 2*((n+2)//3) = T(G)_lp"
   ]
  },
  {
   "cell_type": "code",
   "execution_count": null,
   "metadata": {
    "collapsed": false
   },
   "outputs": [],
   "source": [
    "# AztecDiamondGraph(n)\n",
    "# D(G) = D_for_Aztec(n) = \n",
    "# T(G) = T_for_Aztec(n) = T(G)_lp"
   ]
  },
  {
   "cell_type": "code",
   "execution_count": 8,
   "metadata": {
    "collapsed": false
   },
   "outputs": [],
   "source": [
    "\n",
    "\n",
    "\n",
    "def T_for_Aztec(n):\n",
    "    seed = 0\n",
    "    for i in range(1, n+1):\n",
    "        seed += (1/2)*(2*i + (-1)**(i+1) + 1)\n",
    "    return seed\n",
    "\n"
   ]
  },
  {
   "cell_type": "code",
   "execution_count": 74,
   "metadata": {
    "collapsed": false
   },
   "outputs": [],
   "source": [
    "\n",
    "def D_for_Aztec(n):\n",
    "    result = []\n",
    "    current_number = 2\n",
    "\n",
    "    for i in range(1, n + 1):\n",
    "        repetition = 3 if current_number % 4 == 0 else 2\n",
    "        result.extend([current_number] * repetition)\n",
    "        current_number += 2\n",
    "\n",
    "    return sum(result[:n+1])\n"
   ]
  },
  {
   "cell_type": "code",
   "execution_count": 85,
   "metadata": {
    "collapsed": false
   },
   "outputs": [
    {
     "name": "stdout",
     "output_type": "stream",
     "text": [
      "0.35726558990816404\n",
      "0.0\n",
      "1.1010205144336442\n",
      "-0.32455532033675993\n",
      "0.5166852264521182\n",
      "0.036439079917336414\n",
      "0.6002207529723336\n",
      "1.0001972403852832\n",
      "-0.410282153075201\n",
      "0.5418485049069872\n",
      "-0.2962751328386872\n"
     ]
    },
    {
     "name": "stdout",
     "output_type": "stream",
     "text": [
      "0.6625145274199014\n",
      "0.9469920286585278\n"
     ]
    },
    {
     "name": "stdout",
     "output_type": "stream",
     "text": [
      "-0.702177871239229\n"
     ]
    },
    {
     "name": "stdout",
     "output_type": "stream",
     "text": [
      "0.8312993034424352\n"
     ]
    },
    {
     "name": "stdout",
     "output_type": "stream",
     "text": [
      "-0.8021041660178128\n"
     ]
    },
    {
     "name": "stdout",
     "output_type": "stream",
     "text": [
      "0.9540985548107415\n"
     ]
    },
    {
     "name": "stdout",
     "output_type": "stream",
     "text": [
      "0.5069895566635978\n"
     ]
    },
    {
     "name": "stdout",
     "output_type": "stream",
     "text": [
      "-0.34361180224621535\n"
     ]
    },
    {
     "name": "stdout",
     "output_type": "stream",
     "text": [
      "0.5873278049505473\n"
     ]
    },
    {
     "name": "stdout",
     "output_type": "stream",
     "text": [
      "-0.8902024342533537\n"
     ]
    },
    {
     "name": "stdout",
     "output_type": "stream",
     "text": [
      "1.1931873530157588\n"
     ]
    },
    {
     "name": "stdout",
     "output_type": "stream",
     "text": [
      "0.01063348709993761\n"
     ]
    },
    {
     "name": "stdout",
     "output_type": "stream",
     "text": [
      "-0.25149973880036214\n"
     ]
    },
    {
     "name": "stdout",
     "output_type": "stream",
     "text": [
      "0.2983329899810201\n"
     ]
    },
    {
     "name": "stdout",
     "output_type": "stream",
     "text": [
      "-0.9795440616927635\n"
     ]
    },
    {
     "name": "stdout",
     "output_type": "stream",
     "text": [
      "1.1715997299078822\n"
     ]
    },
    {
     "name": "stdout",
     "output_type": "stream",
     "text": [
      "-0.5287820814580186\n"
     ]
    },
    {
     "name": "stdout",
     "output_type": "stream",
     "text": [
      "0.24523380770864378\n"
     ]
    },
    {
     "name": "stdout",
     "output_type": "stream",
     "text": [
      "-0.4201293216893873\n"
     ]
    },
    {
     "name": "stdout",
     "output_type": "stream",
     "text": [
      "-0.566047824015584\n"
     ]
    },
    {
     "name": "stdout",
     "output_type": "stream",
     "text": [
      "0.8396702338112618\n"
     ]
    },
    {
     "name": "stdout",
     "output_type": "stream",
     "text": [
      "-0.36563221212134067\n"
     ]
    },
    {
     "name": "stdout",
     "output_type": "stream",
     "text": [
      "0.39438713711138007\n"
     ]
    },
    {
     "name": "stdout",
     "output_type": "stream",
     "text": [
      "-0.8966497305009398\n"
     ]
    },
    {
     "ename": "KeyboardInterrupt",
     "evalue": "",
     "output_type": "error",
     "traceback": [
      "\u001b[0;31m---------------------------------------------------------------------------\u001b[0m",
      "\u001b[0;31mKeyboardInterrupt\u001b[0m                         Traceback (most recent call last)",
      "Cell \u001b[0;32mIn [85], line 3\u001b[0m\n\u001b[1;32m      1\u001b[0m \u001b[38;5;28;01mfor\u001b[39;00m n \u001b[38;5;129;01min\u001b[39;00m \u001b[38;5;28mrange\u001b[39m(Integer(\u001b[38;5;241m1\u001b[39m), Integer(\u001b[38;5;241m40\u001b[39m)):\n\u001b[1;32m      2\u001b[0m     G \u001b[38;5;241m=\u001b[39m graphs\u001b[38;5;241m.\u001b[39mAztecDiamondGraph(n)\n\u001b[0;32m----> 3\u001b[0m     p \u001b[38;5;241m=\u001b[39m \u001b[43mLP_dominating_number\u001b[49m\u001b[43m(\u001b[49m\u001b[43mG\u001b[49m\u001b[43m)\u001b[49m\n\u001b[1;32m      4\u001b[0m     e \u001b[38;5;241m=\u001b[39m D_for_Aztec(n)\n\u001b[1;32m      5\u001b[0m     e1 \u001b[38;5;241m=\u001b[39m p \u001b[38;5;241m+\u001b[39m Integer(\u001b[38;5;241m2\u001b[39m)\u001b[38;5;241m*\u001b[39m(p\u001b[38;5;241m*\u001b[39m\u001b[38;5;241m*\u001b[39m(Integer(\u001b[38;5;241m1\u001b[39m)\u001b[38;5;241m/\u001b[39mInteger(\u001b[38;5;241m2\u001b[39m)))\n",
      "Cell \u001b[0;32mIn [1], line 16\u001b[0m, in \u001b[0;36mLP_dominating_number\u001b[0;34m(G)\u001b[0m\n\u001b[1;32m     13\u001b[0m \u001b[38;5;28;01mfor\u001b[39;00m u \u001b[38;5;129;01min\u001b[39;00m G:\n\u001b[1;32m     14\u001b[0m     p\u001b[38;5;241m.\u001b[39madd_constraint(b[u] \u001b[38;5;241m+\u001b[39m \u001b[38;5;28msum\u001b[39m([b[v] \u001b[38;5;28;01mfor\u001b[39;00m v \u001b[38;5;129;01min\u001b[39;00m G\u001b[38;5;241m.\u001b[39mneighbors(u)]) \u001b[38;5;241m>\u001b[39m\u001b[38;5;241m=\u001b[39m Integer(\u001b[38;5;241m1\u001b[39m))\n\u001b[0;32m---> 16\u001b[0m \u001b[38;5;28;01mreturn\u001b[39;00m \u001b[43mp\u001b[49m\u001b[38;5;241;43m.\u001b[39;49m\u001b[43msolve\u001b[49m\u001b[43m(\u001b[49m\u001b[43m)\u001b[49m\n",
      "File \u001b[0;32m/ext/sage/10.1/src/sage/numerical/mip.pyx:2655\u001b[0m, in \u001b[0;36msage.numerical.mip.MixedIntegerLinearProgram.solve\u001b[0;34m()\u001b[0m\n\u001b[1;32m   2653\u001b[0m if log is not None:\n\u001b[1;32m   2654\u001b[0m     self._backend.set_verbosity(log)\n\u001b[0;32m-> 2655\u001b[0m self._backend.solve()\n\u001b[1;32m   2656\u001b[0m return self._backend.get_objective_value()\n\u001b[1;32m   2657\u001b[0m \n",
      "File \u001b[0;32m/ext/sage/10.1/src/sage/numerical/backends/glpk_backend.pyx:1135\u001b[0m, in \u001b[0;36msage.numerical.backends.glpk_backend.GLPKBackend.solve\u001b[0;34m()\u001b[0m\n\u001b[1;32m   1133\u001b[0m if ((self.simplex_or_intopt == glp_intopt_only)\n\u001b[1;32m   1134\u001b[0m     or (self.simplex_or_intopt == glp_simplex_then_intopt) and (solution_status != GLP_UNDEF) and (solution_status != GLP_NOFEAS)):\n\u001b[0;32m-> 1135\u001b[0m     sig_on()\n\u001b[1;32m   1136\u001b[0m     solve_status = glp_intopt(self.lp, self.iocp)\n\u001b[1;32m   1137\u001b[0m     solution_status = glp_mip_status(self.lp)\n",
      "\u001b[0;31mKeyboardInterrupt\u001b[0m: "
     ]
    }
   ],
   "source": [
    "for n in range(1, 40):\n",
    "    G = graphs.AztecDiamondGraph(n)\n",
    "    p = LP_dominating_number(G)\n",
    "    e = D_for_Aztec(n)\n",
    "    e1 = p + 2*(p**(1/2))\n",
    "    print(e - e1)"
   ]
  },
  {
   "cell_type": "code",
   "execution_count": 2,
   "metadata": {
    "collapsed": false
   },
   "outputs": [],
   "source": [
    "# g.num_verts(), g.num_edges()"
   ]
  },
  {
   "cell_type": "code",
   "execution_count": 3,
   "metadata": {
    "collapsed": false
   },
   "outputs": [
    {
     "data": {
      "text/plain": [
       "'\\nFormula za D(g) za input n, za n > 10 že rabi predolgo časa, zato je samo improvizirana če se ponavlja vzorec 2,2,4,4,4,6,6,8,8,8,10,10,... med razlikami \\nseed = 0\\nfor i in range(1, n-1):\\n    seed += (1/2)*(2*i + (-1)**(i+1) + 1)\\n    if i % 4 == 0:\\n        seed += i\\nseed\\n'"
      ]
     },
     "execution_count": 3,
     "metadata": {},
     "output_type": "execute_result"
    }
   ],
   "source": [
    "# graphs.AztecDiamondGraph(i)\n",
    "# i   : 0, 1,  2,  3,  4,   5,   6,   7,   8,   9,  10, 11\n",
    "# D(g): 0, 2,  4,  8, 12,  16,  22,  28,  36,  44,  52, ...\n",
    "# T(g): 0, 2,  4,  8, 12,  18,  24,  32,  40,  50,  60, 72\n",
    "\n",
    "\"\"\"\n",
    "Formula za T(g) za input n, testirana do n = 40\n",
    "seed = 0\n",
    "for i in range(1, n+1):\n",
    "    seed += (1/2)*(2*i + (-1)**(i+1) + 1)\n",
    "print(seed)\n",
    "\"\"\"\n",
    "\n",
    "\"\"\"\n",
    "Formula za D(g) za input n, za n > 10 že rabi predolgo časa, zato je samo improvizirana če se ponavlja vzorec 2,2,4,4,4,6,6,8,8,8,10,10,... med razlikami \n",
    "seed = 0\n",
    "for i in range(1, n-1):\n",
    "    seed += (1/2)*(2*i + (-1)**(i+1) + 1)\n",
    "    if i % 4 == 0:\n",
    "        seed += i\n",
    "seed\n",
    "\"\"\""
   ]
  },
  {
   "cell_type": "code",
   "execution_count": null,
   "metadata": {
    "collapsed": false
   },
   "outputs": [],
   "source": []
  }
 ],
 "metadata": {
  "kernelspec": {
   "argv": [
    "sage-10.1",
    "--python",
    "-m",
    "sage.repl.ipython_kernel",
    "--matplotlib=inline",
    "-f",
    "{connection_file}"
   ],
   "display_name": "SageMath 10.1",
   "env": {},
   "language": "sagemath",
   "metadata": {
    "cocalc": {
     "description": "Open-source mathematical software system",
     "priority": 10,
     "url": "https://www.sagemath.org/"
    }
   },
   "name": "sage-10.1",
   "resource_dir": "/ext/jupyter/kernels/sage-10.1"
  },
  "language_info": {
   "codemirror_mode": {
    "name": "ipython",
    "version": 3
   },
   "file_extension": ".py",
   "mimetype": "text/x-python",
   "name": "python",
   "nbconvert_exporter": "python",
   "pygments_lexer": "ipython3",
   "version": "3.11.1"
  }
 },
 "nbformat": 4,
 "nbformat_minor": 4
}
